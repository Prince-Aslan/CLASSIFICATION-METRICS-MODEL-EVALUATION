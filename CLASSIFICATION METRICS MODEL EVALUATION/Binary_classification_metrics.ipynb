{
 "cells": [
  {
   "cell_type": "markdown",
   "metadata": {},
   "source": [
    "# BINARY CLASSIFICATION METRICS MODEL EVALUATION"
   ]
  },
  {
   "cell_type": "markdown",
   "metadata": {},
   "source": [
    "In this classification project, I trained a logistic regression model and evaluated its performance by calculating overall accuracy from its confusion matrix."
   ]
  },
  {
   "cell_type": "markdown",
   "metadata": {
    "id": "Ee-v8I_P8rfp"
   },
   "source": [
    "### [Let's Connect on LinkedIn - Prince Peter](https://www.linkedin.com/in/peter-prince/)"
   ]
  },
  {
   "cell_type": "markdown",
   "metadata": {
    "id": "ITqrvAqq8xSC"
   },
   "source": [
    "## Project objectives\n",
    "\n",
    "By the end of this project, I want to have achieved;\n",
    "* Train a logistic regression model.\n",
    "* Calculate the model's overall accuracy."
   ]
  },
  {
   "cell_type": "markdown",
   "metadata": {},
   "source": [
    "## Import libraries and dataset\n",
    "\n",
    "In an effort to conserve a particular endangered animal species, I want to be able to predict the suitability of various habitats. I have a dataset, `habitat_suitability`, that contains various environmental and ecological features used to determine whether or not a habitat is suitable for the species."
   ]
  },
  {
   "cell_type": "code",
   "execution_count": 21,
   "metadata": {},
   "outputs": [],
   "source": [
    "import numpy as np\n",
    "import pandas as pd\n",
    "import seaborn as sns\n",
    "import matplotlib.pyplot as plt\n",
    "from sklearn.model_selection import train_test_split\n",
    "from sklearn.preprocessing import StandardScaler\n",
    "from sklearn.linear_model import LogisticRegression"
   ]
  },
  {
   "cell_type": "code",
   "execution_count": 2,
   "metadata": {},
   "outputs": [
    {
     "data": {
      "text/html": [
       "<div>\n",
       "<style scoped>\n",
       "    .dataframe tbody tr th:only-of-type {\n",
       "        vertical-align: middle;\n",
       "    }\n",
       "\n",
       "    .dataframe tbody tr th {\n",
       "        vertical-align: top;\n",
       "    }\n",
       "\n",
       "    .dataframe thead th {\n",
       "        text-align: right;\n",
       "    }\n",
       "</style>\n",
       "<table border=\"1\" class=\"dataframe\">\n",
       "  <thead>\n",
       "    <tr style=\"text-align: right;\">\n",
       "      <th></th>\n",
       "      <th>Average Temperature (°C)</th>\n",
       "      <th>Annual Rainfall (mm)</th>\n",
       "      <th>Vegetation Density (% coverage)</th>\n",
       "      <th>Predator Presence (0 or 1)</th>\n",
       "      <th>Human Disturbance Index</th>\n",
       "      <th>Altitude (meters)</th>\n",
       "      <th>Water Source Availability (0 or 1)</th>\n",
       "      <th>Habitat Suitability</th>\n",
       "    </tr>\n",
       "  </thead>\n",
       "  <tbody>\n",
       "    <tr>\n",
       "      <th>0</th>\n",
       "      <td>20.009527</td>\n",
       "      <td>1270.407873</td>\n",
       "      <td>90.142754</td>\n",
       "      <td>1</td>\n",
       "      <td>0.392750</td>\n",
       "      <td>355.433041</td>\n",
       "      <td>1</td>\n",
       "      <td>1</td>\n",
       "    </tr>\n",
       "    <tr>\n",
       "      <th>1</th>\n",
       "      <td>16.228576</td>\n",
       "      <td>1419.881504</td>\n",
       "      <td>58.246594</td>\n",
       "      <td>0</td>\n",
       "      <td>0.356556</td>\n",
       "      <td>64.890245</td>\n",
       "      <td>1</td>\n",
       "      <td>1</td>\n",
       "    </tr>\n",
       "    <tr>\n",
       "      <th>2</th>\n",
       "      <td>25.472638</td>\n",
       "      <td>991.750374</td>\n",
       "      <td>57.898060</td>\n",
       "      <td>1</td>\n",
       "      <td>0.832856</td>\n",
       "      <td>301.426259</td>\n",
       "      <td>1</td>\n",
       "      <td>0</td>\n",
       "    </tr>\n",
       "    <tr>\n",
       "      <th>3</th>\n",
       "      <td>34.030446</td>\n",
       "      <td>1431.824231</td>\n",
       "      <td>41.892067</td>\n",
       "      <td>1</td>\n",
       "      <td>0.044347</td>\n",
       "      <td>390.152269</td>\n",
       "      <td>1</td>\n",
       "      <td>0</td>\n",
       "    </tr>\n",
       "    <tr>\n",
       "      <th>4</th>\n",
       "      <td>38.334526</td>\n",
       "      <td>1018.262946</td>\n",
       "      <td>56.814597</td>\n",
       "      <td>1</td>\n",
       "      <td>0.308421</td>\n",
       "      <td>450.584113</td>\n",
       "      <td>1</td>\n",
       "      <td>0</td>\n",
       "    </tr>\n",
       "  </tbody>\n",
       "</table>\n",
       "</div>"
      ],
      "text/plain": [
       "   Average Temperature (°C)  Annual Rainfall (mm)  \\\n",
       "0                 20.009527           1270.407873   \n",
       "1                 16.228576           1419.881504   \n",
       "2                 25.472638            991.750374   \n",
       "3                 34.030446           1431.824231   \n",
       "4                 38.334526           1018.262946   \n",
       "\n",
       "   Vegetation Density (% coverage)  Predator Presence (0 or 1)  \\\n",
       "0                        90.142754                           1   \n",
       "1                        58.246594                           0   \n",
       "2                        57.898060                           1   \n",
       "3                        41.892067                           1   \n",
       "4                        56.814597                           1   \n",
       "\n",
       "   Human Disturbance Index  Altitude (meters)  \\\n",
       "0                 0.392750         355.433041   \n",
       "1                 0.356556          64.890245   \n",
       "2                 0.832856         301.426259   \n",
       "3                 0.044347         390.152269   \n",
       "4                 0.308421         450.584113   \n",
       "\n",
       "   Water Source Availability (0 or 1)  Habitat Suitability  \n",
       "0                                   1                    1  \n",
       "1                                   1                    1  \n",
       "2                                   1                    0  \n",
       "3                                   1                    0  \n",
       "4                                   1                    0  "
      ]
     },
     "execution_count": 2,
     "metadata": {},
     "output_type": "execute_result"
    }
   ],
   "source": [
    "# Load dataset\n",
    "habitat_df= pd.read_csv(\"https://raw.githubusercontent.com/Explore-AI/Public-Data/master/habitat_suitability.csv\")\n",
    "habitat_df.head(5)"
   ]
  },
  {
   "cell_type": "markdown",
   "metadata": {},
   "source": [
    "# Brief EDA"
   ]
  },
  {
   "cell_type": "code",
   "execution_count": 16,
   "metadata": {},
   "outputs": [
    {
     "name": "stdout",
     "output_type": "stream",
     "text": [
      "<class 'pandas.core.frame.DataFrame'>\n",
      "RangeIndex: 1000 entries, 0 to 999\n",
      "Data columns (total 8 columns):\n",
      " #   Column                              Non-Null Count  Dtype  \n",
      "---  ------                              --------------  -----  \n",
      " 0   Average Temperature (°C)            1000 non-null   float64\n",
      " 1   Annual Rainfall (mm)                1000 non-null   float64\n",
      " 2   Vegetation Density (% coverage)     1000 non-null   float64\n",
      " 3   Predator Presence (0 or 1)          1000 non-null   int64  \n",
      " 4   Human Disturbance Index             1000 non-null   float64\n",
      " 5   Altitude (meters)                   1000 non-null   float64\n",
      " 6   Water Source Availability (0 or 1)  1000 non-null   int64  \n",
      " 7   Habitat Suitability                 1000 non-null   int64  \n",
      "dtypes: float64(5), int64(3)\n",
      "memory usage: 62.6 KB\n"
     ]
    }
   ],
   "source": [
    "habitat_df.info()"
   ]
  },
  {
   "cell_type": "code",
   "execution_count": 17,
   "metadata": {},
   "outputs": [
    {
     "data": {
      "text/html": [
       "<div>\n",
       "<style scoped>\n",
       "    .dataframe tbody tr th:only-of-type {\n",
       "        vertical-align: middle;\n",
       "    }\n",
       "\n",
       "    .dataframe tbody tr th {\n",
       "        vertical-align: top;\n",
       "    }\n",
       "\n",
       "    .dataframe thead th {\n",
       "        text-align: right;\n",
       "    }\n",
       "</style>\n",
       "<table border=\"1\" class=\"dataframe\">\n",
       "  <thead>\n",
       "    <tr style=\"text-align: right;\">\n",
       "      <th></th>\n",
       "      <th>count</th>\n",
       "      <th>mean</th>\n",
       "      <th>std</th>\n",
       "      <th>min</th>\n",
       "      <th>25%</th>\n",
       "      <th>50%</th>\n",
       "      <th>75%</th>\n",
       "      <th>max</th>\n",
       "    </tr>\n",
       "  </thead>\n",
       "  <tbody>\n",
       "    <tr>\n",
       "      <th>Average Temperature (°C)</th>\n",
       "      <td>1000.0</td>\n",
       "      <td>25.068349</td>\n",
       "      <td>5.206463</td>\n",
       "      <td>6.558174</td>\n",
       "      <td>21.539219</td>\n",
       "      <td>25.010066</td>\n",
       "      <td>28.602496</td>\n",
       "      <td>40.588406</td>\n",
       "    </tr>\n",
       "    <tr>\n",
       "      <th>Annual Rainfall (mm)</th>\n",
       "      <td>1000.0</td>\n",
       "      <td>1004.677360</td>\n",
       "      <td>203.723082</td>\n",
       "      <td>232.668890</td>\n",
       "      <td>872.409395</td>\n",
       "      <td>1005.771860</td>\n",
       "      <td>1136.011012</td>\n",
       "      <td>1675.476584</td>\n",
       "    </tr>\n",
       "    <tr>\n",
       "      <th>Vegetation Density (% coverage)</th>\n",
       "      <td>1000.0</td>\n",
       "      <td>65.183446</td>\n",
       "      <td>20.668525</td>\n",
       "      <td>30.011042</td>\n",
       "      <td>47.338328</td>\n",
       "      <td>64.133888</td>\n",
       "      <td>83.886498</td>\n",
       "      <td>99.953459</td>\n",
       "    </tr>\n",
       "    <tr>\n",
       "      <th>Predator Presence (0 or 1)</th>\n",
       "      <td>1000.0</td>\n",
       "      <td>0.684000</td>\n",
       "      <td>0.465146</td>\n",
       "      <td>0.000000</td>\n",
       "      <td>0.000000</td>\n",
       "      <td>1.000000</td>\n",
       "      <td>1.000000</td>\n",
       "      <td>1.000000</td>\n",
       "    </tr>\n",
       "    <tr>\n",
       "      <th>Human Disturbance Index</th>\n",
       "      <td>1000.0</td>\n",
       "      <td>0.492330</td>\n",
       "      <td>0.294971</td>\n",
       "      <td>0.001418</td>\n",
       "      <td>0.230218</td>\n",
       "      <td>0.476140</td>\n",
       "      <td>0.763110</td>\n",
       "      <td>0.998303</td>\n",
       "    </tr>\n",
       "    <tr>\n",
       "      <th>Altitude (meters)</th>\n",
       "      <td>1000.0</td>\n",
       "      <td>501.434510</td>\n",
       "      <td>200.906564</td>\n",
       "      <td>-164.222911</td>\n",
       "      <td>371.681273</td>\n",
       "      <td>502.024896</td>\n",
       "      <td>629.155720</td>\n",
       "      <td>1175.553648</td>\n",
       "    </tr>\n",
       "    <tr>\n",
       "      <th>Water Source Availability (0 or 1)</th>\n",
       "      <td>1000.0</td>\n",
       "      <td>0.804000</td>\n",
       "      <td>0.397167</td>\n",
       "      <td>0.000000</td>\n",
       "      <td>1.000000</td>\n",
       "      <td>1.000000</td>\n",
       "      <td>1.000000</td>\n",
       "      <td>1.000000</td>\n",
       "    </tr>\n",
       "    <tr>\n",
       "      <th>Habitat Suitability</th>\n",
       "      <td>1000.0</td>\n",
       "      <td>0.240000</td>\n",
       "      <td>0.427297</td>\n",
       "      <td>0.000000</td>\n",
       "      <td>0.000000</td>\n",
       "      <td>0.000000</td>\n",
       "      <td>0.000000</td>\n",
       "      <td>1.000000</td>\n",
       "    </tr>\n",
       "  </tbody>\n",
       "</table>\n",
       "</div>"
      ],
      "text/plain": [
       "                                     count         mean         std  \\\n",
       "Average Temperature (°C)            1000.0    25.068349    5.206463   \n",
       "Annual Rainfall (mm)                1000.0  1004.677360  203.723082   \n",
       "Vegetation Density (% coverage)     1000.0    65.183446   20.668525   \n",
       "Predator Presence (0 or 1)          1000.0     0.684000    0.465146   \n",
       "Human Disturbance Index             1000.0     0.492330    0.294971   \n",
       "Altitude (meters)                   1000.0   501.434510  200.906564   \n",
       "Water Source Availability (0 or 1)  1000.0     0.804000    0.397167   \n",
       "Habitat Suitability                 1000.0     0.240000    0.427297   \n",
       "\n",
       "                                           min         25%          50%  \\\n",
       "Average Temperature (°C)              6.558174   21.539219    25.010066   \n",
       "Annual Rainfall (mm)                232.668890  872.409395  1005.771860   \n",
       "Vegetation Density (% coverage)      30.011042   47.338328    64.133888   \n",
       "Predator Presence (0 or 1)            0.000000    0.000000     1.000000   \n",
       "Human Disturbance Index               0.001418    0.230218     0.476140   \n",
       "Altitude (meters)                  -164.222911  371.681273   502.024896   \n",
       "Water Source Availability (0 or 1)    0.000000    1.000000     1.000000   \n",
       "Habitat Suitability                   0.000000    0.000000     0.000000   \n",
       "\n",
       "                                            75%          max  \n",
       "Average Temperature (°C)              28.602496    40.588406  \n",
       "Annual Rainfall (mm)                1136.011012  1675.476584  \n",
       "Vegetation Density (% coverage)       83.886498    99.953459  \n",
       "Predator Presence (0 or 1)             1.000000     1.000000  \n",
       "Human Disturbance Index                0.763110     0.998303  \n",
       "Altitude (meters)                    629.155720  1175.553648  \n",
       "Water Source Availability (0 or 1)     1.000000     1.000000  \n",
       "Habitat Suitability                    0.000000     1.000000  "
      ]
     },
     "execution_count": 17,
     "metadata": {},
     "output_type": "execute_result"
    }
   ],
   "source": [
    "habitat_df.describe().T"
   ]
  },
  {
   "cell_type": "code",
   "execution_count": 18,
   "metadata": {},
   "outputs": [
    {
     "data": {
      "text/plain": [
       "(1000, 8)"
      ]
     },
     "execution_count": 18,
     "metadata": {},
     "output_type": "execute_result"
    }
   ],
   "source": [
    "habitat_df.shape"
   ]
  },
  {
   "cell_type": "code",
   "execution_count": 24,
   "metadata": {},
   "outputs": [
    {
     "data": {
      "image/png": "[encoded data removed]",
      "text/plain": [
       "<Figure size 640x480 with 1 Axes>"
      ]
     },
     "metadata": {},
     "output_type": "display_data"
    }
   ],
   "source": [
    "# Balance of target variable\n",
    "sns.countplot(x= 'Habitat Suitability', data=habitat_df)\n",
    "plt.show()"
   ]
  },
  {
   "cell_type": "markdown",
   "metadata": {},
   "source": [
    "The image is the output, where '1' and '0' represent suitable (1) or unsuitable (0)., respectively. The `countplot` indicates whether the dataset is balanced between these classes or if there is class imbalance.\n",
    "\n",
    "In our case class '0' has a higher count than class '1', indicating that there are more instances of class '0' in the dataset. This is an indication of **imbalance** in class distribution or an implication that **accuracy** might not be a suitable performance metric as the model could simply predict the majority class for all instances and still achieve a deceptively high accuracy. See the `Recommendation cell after the model evaluation at the end of the project`"
   ]
  },
  {
   "cell_type": "markdown",
   "metadata": {},
   "source": [
    "## Objective\n",
    "\n",
    "Using the dataset, I want to build a classification model that will be able to classify habitats as suitable (1) or unsuitable (0).\n",
    "\n",
    "In the code below, I have prepared the dataset and trained a logistic regression model following these preliminary steps."
   ]
  },
  {
   "cell_type": "code",
   "execution_count": 3,
   "metadata": {},
   "outputs": [
    {
     "data": {
      "text/html": [
       "<style>#sk-container-id-1 {color: black;}#sk-container-id-1 pre{padding: 0;}#sk-container-id-1 div.sk-toggleable {background-color: white;}#sk-container-id-1 label.sk-toggleable__label {cursor: pointer;display: block;width: 100%;margin-bottom: 0;padding: 0.3em;box-sizing: border-box;text-align: center;}#sk-container-id-1 label.sk-toggleable__label-arrow:before {content: \"▸\";float: left;margin-right: 0.25em;color: #696969;}#sk-container-id-1 label.sk-toggleable__label-arrow:hover:before {color: black;}#sk-container-id-1 div.sk-estimator:hover label.sk-toggleable__label-arrow:before {color: black;}#sk-container-id-1 div.sk-toggleable__content {max-height: 0;max-width: 0;overflow: hidden;text-align: left;background-color: #f0f8ff;}#sk-container-id-1 div.sk-toggleable__content pre {margin: 0.2em;color: black;border-radius: 0.25em;background-color: #f0f8ff;}#sk-container-id-1 input.sk-toggleable__control:checked~div.sk-toggleable__content {max-height: 200px;max-width: 100%;overflow: auto;}#sk-container-id-1 input.sk-toggleable__control:checked~label.sk-toggleable__label-arrow:before {content: \"▾\";}#sk-container-id-1 div.sk-estimator input.sk-toggleable__control:checked~label.sk-toggleable__label {background-color: #d4ebff;}#sk-container-id-1 div.sk-label input.sk-toggleable__control:checked~label.sk-toggleable__label {background-color: #d4ebff;}#sk-container-id-1 input.sk-hidden--visually {border: 0;clip: rect(1px 1px 1px 1px);clip: rect(1px, 1px, 1px, 1px);height: 1px;margin: -1px;overflow: hidden;padding: 0;position: absolute;width: 1px;}#sk-container-id-1 div.sk-estimator {font-family: monospace;background-color: #f0f8ff;border: 1px dotted black;border-radius: 0.25em;box-sizing: border-box;margin-bottom: 0.5em;}#sk-container-id-1 div.sk-estimator:hover {background-color: #d4ebff;}#sk-container-id-1 div.sk-parallel-item::after {content: \"\";width: 100%;border-bottom: 1px solid gray;flex-grow: 1;}#sk-container-id-1 div.sk-label:hover label.sk-toggleable__label {background-color: #d4ebff;}#sk-container-id-1 div.sk-serial::before {content: \"\";position: absolute;border-left: 1px solid gray;box-sizing: border-box;top: 0;bottom: 0;left: 50%;z-index: 0;}#sk-container-id-1 div.sk-serial {display: flex;flex-direction: column;align-items: center;background-color: white;padding-right: 0.2em;padding-left: 0.2em;position: relative;}#sk-container-id-1 div.sk-item {position: relative;z-index: 1;}#sk-container-id-1 div.sk-parallel {display: flex;align-items: stretch;justify-content: center;background-color: white;position: relative;}#sk-container-id-1 div.sk-item::before, #sk-container-id-1 div.sk-parallel-item::before {content: \"\";position: absolute;border-left: 1px solid gray;box-sizing: border-box;top: 0;bottom: 0;left: 50%;z-index: -1;}#sk-container-id-1 div.sk-parallel-item {display: flex;flex-direction: column;z-index: 1;position: relative;background-color: white;}#sk-container-id-1 div.sk-parallel-item:first-child::after {align-self: flex-end;width: 50%;}#sk-container-id-1 div.sk-parallel-item:last-child::after {align-self: flex-start;width: 50%;}#sk-container-id-1 div.sk-parallel-item:only-child::after {width: 0;}#sk-container-id-1 div.sk-dashed-wrapped {border: 1px dashed gray;margin: 0 0.4em 0.5em 0.4em;box-sizing: border-box;padding-bottom: 0.4em;background-color: white;}#sk-container-id-1 div.sk-label label {font-family: monospace;font-weight: bold;display: inline-block;line-height: 1.2em;}#sk-container-id-1 div.sk-label-container {text-align: center;}#sk-container-id-1 div.sk-container {/* jupyter's `normalize.less` sets `[hidden] { display: none; }` but bootstrap.min.css set `[hidden] { display: none !important; }` so we also need the `!important` here to be able to override the default hidden behavior on the sphinx rendered scikit-learn.org. See: https://github.com/scikit-learn/scikit-learn/issues/21755 */display: inline-block !important;position: relative;}#sk-container-id-1 div.sk-text-repr-fallback {display: none;}</style><div id=\"sk-container-id-1\" class=\"sk-top-container\"><div class=\"sk-text-repr-fallback\"><pre>LogisticRegression()</pre><b>In a Jupyter environment, please rerun this cell to show the HTML representation or trust the notebook. <br />On GitHub, the HTML representation is unable to render, please try loading this page with nbviewer.org.</b></div><div class=\"sk-container\" hidden><div class=\"sk-item\"><div class=\"sk-estimator sk-toggleable\"><input class=\"sk-toggleable__control sk-hidden--visually\" id=\"sk-estimator-id-1\" type=\"checkbox\" checked><label for=\"sk-estimator-id-1\" class=\"sk-toggleable__label sk-toggleable__label-arrow\">LogisticRegression</label><div class=\"sk-toggleable__content\"><pre>LogisticRegression()</pre></div></div></div></div></div>"
      ],
      "text/plain": [
       "LogisticRegression()"
      ]
     },
     "execution_count": 3,
     "metadata": {},
     "output_type": "execute_result"
    }
   ],
   "source": [
    "# Prepare the data\n",
    "X = habitat_df.drop('Habitat Suitability', axis=1)  # Features\n",
    "y = habitat_df['Habitat Suitability']  # Target variable\n",
    "\n",
    "# Split the dataset into training and testing sets\n",
    "X_train, X_test, y_train, y_test = train_test_split(X, y, test_size=0.2, random_state=42)\n",
    "\n",
    "# Feature scaling\n",
    "scaler = StandardScaler()\n",
    "X_train_scaled = scaler.fit_transform(X_train)\n",
    "\n",
    "# Train a logistic regression model\n",
    "model = LogisticRegression()\n",
    "model.fit(X_train_scaled, y_train)"
   ]
  },
  {
   "cell_type": "markdown",
   "metadata": {},
   "source": [
    "### Step 1\n",
    "\n",
    "**a)** \n",
    "\n",
    "Now that I have trained a logistic regression model on the `habitat_suitability` dataset, let me try and get information on how our model performs on new unseen data.\n",
    "\n",
    "Hence: \n",
    "\n",
    "1. I will use the trained logistic regression model to make predictions on the test set.\n",
    "2. Import and use `confusion_matrix` from `sklearn.metrics` to generate the confusion matrix for your predictions.\n",
    "3. Display the confusion matrix.\n",
    "\n",
    "**Note:** Remember I will need to scale the test set features also to ensure consistency."
   ]
  },
  {
   "cell_type": "code",
   "execution_count": 8,
   "metadata": {},
   "outputs": [
    {
     "name": "stdout",
     "output_type": "stream",
     "text": [
      "Confusion Matrix:\n",
      " [[143   9]\n",
      " [ 16  32]]\n"
     ]
    }
   ],
   "source": [
    "# Your solution here...\n",
    "# Import the confusion_matrix function from sklearn's metrics module\n",
    "from sklearn.metrics import confusion_matrix\n",
    "\n",
    "# Scale the test dataset features using the same scaler that was applied to the training dataset\n",
    "X_test_scaled = scaler.transform(X_test)\n",
    "\n",
    "# Use the trained logistic regression model to predict the outcomes for the scaled test dataset.\n",
    "y_pred = model.predict(X_test_scaled)\n",
    "\n",
    "# Generate the confusion matrix\n",
    "conf_matrix = confusion_matrix(y_test, y_pred)\n",
    "print(\"Confusion Matrix:\\n\", conf_matrix)"
   ]
  },
  {
   "cell_type": "markdown",
   "metadata": {},
   "source": [
    "I used the `confusion_matrix` function from `sklearn` to compare\n",
    "the model's predicted values against the actual values from the test dataset.\n",
    "\n",
    "It displays the correct and incorrect predictions across the different classes. "
   ]
  },
  {
   "cell_type": "markdown",
   "metadata": {},
   "source": [
    "**b)** \n",
    "\n",
    "The confusion matrix is not easy to read. Let's improve on this by converting it into a DataFrame with the following row and column labels `0: Unsuitable` and `1: Suitable`. "
   ]
  },
  {
   "cell_type": "code",
   "execution_count": 9,
   "metadata": {},
   "outputs": [
    {
     "data": {
      "text/html": [
       "<div>\n",
       "<style scoped>\n",
       "    .dataframe tbody tr th:only-of-type {\n",
       "        vertical-align: middle;\n",
       "    }\n",
       "\n",
       "    .dataframe tbody tr th {\n",
       "        vertical-align: top;\n",
       "    }\n",
       "\n",
       "    .dataframe thead th {\n",
       "        text-align: right;\n",
       "    }\n",
       "</style>\n",
       "<table border=\"1\" class=\"dataframe\">\n",
       "  <thead>\n",
       "    <tr style=\"text-align: right;\">\n",
       "      <th></th>\n",
       "      <th>0: Unsuitable</th>\n",
       "      <th>1: Suitable</th>\n",
       "    </tr>\n",
       "  </thead>\n",
       "  <tbody>\n",
       "    <tr>\n",
       "      <th>0: Unsuitable</th>\n",
       "      <td>143</td>\n",
       "      <td>9</td>\n",
       "    </tr>\n",
       "    <tr>\n",
       "      <th>1: Suitable</th>\n",
       "      <td>16</td>\n",
       "      <td>32</td>\n",
       "    </tr>\n",
       "  </tbody>\n",
       "</table>\n",
       "</div>"
      ],
      "text/plain": [
       "                0: Unsuitable   1: Suitable\n",
       "0: Unsuitable              143            9\n",
       "1: Suitable                 16           32"
      ]
     },
     "execution_count": 9,
     "metadata": {},
     "output_type": "execute_result"
    }
   ],
   "source": [
    "# Define the labels for the confusion matrix\n",
    "labels = ['0: Unsuitable ', '1: Suitable']\n",
    "\n",
    "# Create a Pandas DataFrame from the confusion matrix data and the labels defined above\n",
    "matrix_df = pd.DataFrame(data=conf_matrix, index=labels, columns=labels)\n",
    "\n",
    "# Display the resulting DataFrame\n",
    "matrix_df"
   ]
  },
  {
   "cell_type": "markdown",
   "metadata": {},
   "source": [
    "I created a Pandas DataFrame to neatly display our previously generated confusion matrix by labelling the rows and columns according to the outcomes they represent. "
   ]
  },
  {
   "cell_type": "markdown",
   "metadata": {},
   "source": [
    "### Step 2\n",
    "Now that we can easily interpret our confusion matrix, I want to compare the distribution of the ground truth classifications and the classifications made by the model. \n",
    "\n",
    "That is, I want to find out how many observations were classified as suitable (1) and unsuitable (0) habitats by the model and compare this to the counts originally in the test set.\n"
   ]
  },
  {
   "cell_type": "code",
   "execution_count": 10,
   "metadata": {},
   "outputs": [
    {
     "name": "stdout",
     "output_type": "stream",
     "text": [
      "Ground Truth Totals for Each Class:\n",
      "0: Unsuitable     152\n",
      "1: Suitable        48\n",
      "dtype: int64\n",
      "\n",
      "Prediction Totals for Each Class:\n",
      "0: Unsuitable     159\n",
      "1: Suitable        41\n",
      "dtype: int64\n"
     ]
    }
   ],
   "source": [
    "# Sum of each row: Ground truth totals for each class\n",
    "ground_truth_totals = matrix_df.sum(axis=1)\n",
    "print(\"Ground Truth Totals for Each Class:\")\n",
    "print(ground_truth_totals)\n",
    "\n",
    "# Sum of each column: Totals for the predictions for each class\n",
    "prediction_totals = matrix_df.sum(axis=0)\n",
    "print(\"\\nPrediction Totals for Each Class:\")\n",
    "print(prediction_totals)"
   ]
  },
  {
   "cell_type": "markdown",
   "metadata": {},
   "source": [
    "I calculated the ground truth totals for each class by summing up the rows of the confusion matrix DataFrame. \n",
    "\n",
    "On the other hand, I calculated the totals for the predictions for each class by summing up the columns of the confusion matrix DataFrame.\n",
    "\n",
    "Analysing the ground truth totals can help understand the class balance or imbalance inherent in the dataset, while examining the prediction totals can reveal if the model has a bias towards predicting one class more than another."
   ]
  },
  {
   "cell_type": "markdown",
   "metadata": {},
   "source": [
    "### Step 3\n",
    "\n",
    "From the multidimensional array `conf_matrix`, access the true positive, true negative, false positive, and false negative values and store them in the following variables `TP`, `TN`, `FP`, and `FN`, respectively. \n",
    "\n",
    "Print each value together with its label.\n",
    "\n",
    "**Hint:** Apply domain knowledge of where each of these values is located in the confusion matrix."
   ]
  },
  {
   "cell_type": "code",
   "execution_count": 11,
   "metadata": {},
   "outputs": [
    {
     "name": "stdout",
     "output_type": "stream",
     "text": [
      "True positive: 32\n",
      "True negative: 143\n",
      "False positive: 9\n",
      "False negative 16\n"
     ]
    }
   ],
   "source": [
    "# Your solution here...\n",
    "# Extracting True Positives (TP) from the confusion matrix, located at index [1, 1]\n",
    "TP = conf_matrix[1, 1]\n",
    "\n",
    "# Extracting True Negatives (TN) from the confusion matrix, located at index [0, 0]\n",
    "TN = conf_matrix[0, 0]\n",
    "\n",
    "# Extracting False Positives (FP) from the confusion matrix, located at index [0, 1]\n",
    "FP = conf_matrix[0, 1]\n",
    "\n",
    "# Extracting False Negatives (FN) from the confusion matrix, located at index [1, 0]\n",
    "FN = conf_matrix[1, 0]\n",
    "\n",
    "print(\"True positive:\", TP)\n",
    "print(\"True negative:\", TN)\n",
    "print(\"False positive:\", FP)\n",
    "print(\"False negative\", FN)"
   ]
  },
  {
   "cell_type": "markdown",
   "metadata": {},
   "source": [
    "I extracted and calculated each of the confusion matrix components which gave me insights into the types of errors the model is making, as well as its successes, which is crucial for understanding how the model is performing."
   ]
  },
  {
   "cell_type": "markdown",
   "metadata": {},
   "source": [
    "### Step 4\n",
    "\n",
    "Let's now find out the overall accuracy of our model. \n",
    "\n",
    "**a)** Using the values from **Step 3**, I will calculate the overall accuracy using the formula: \n",
    " \n",
    " $$Accuracy =  \\frac{Correct\\space predictions}{Total\\space predictions}$$\n",
    "\n",
    "**b)** Will comment on the suitability of using accuracy as the sole metric for evaluating the performance of our model."
   ]
  },
  {
   "cell_type": "code",
   "execution_count": 12,
   "metadata": {},
   "outputs": [
    {
     "name": "stdout",
     "output_type": "stream",
     "text": [
      "Overall Accuracy: 0.875\n"
     ]
    }
   ],
   "source": [
    "# Your solution here...\n",
    "accuracy = (TP + TN) / (TP + TN + FP + FN)\n",
    "print(\"Overall Accuracy:\", accuracy)"
   ]
  },
  {
   "cell_type": "markdown",
   "metadata": {},
   "source": [
    "Based on the given formula, the correct predictions, which are represented by the `TP` and `TN`, are divided by the total predictions, which are all the values: `TP`, `TN`, `FP`, and `FN`."
   ]
  },
  {
   "cell_type": "markdown",
   "metadata": {},
   "source": [
    "\n",
    "### Recommendation\n",
    "\n",
    "\"The dataset exhibits a significant class imbalance, with 152 instances labeled as `Unsuitable` compared to 48 labeled as `Suitable`. \n",
    "\n",
    "This imbalance likely contributes to the high accuracy of 87.5%, as the model may be biased towards predicting the majority class. Therefore, relying solely on accuracy to evaluate the model's performance is insufficient. \n",
    "\n",
    "To gain a more comprehensive understanding, it's recommended to employ additional evaluation metrics such as precision, recall, F1 score, and AUC-ROC.\""
   ]
  },
  {
   "cell_type": "markdown",
   "metadata": {},
   "source": [
    "### [Let's Connect on LinkedIn - Prince Peter](https://www.linkedin.com/in/peter-prince/)"
   ]
  }
 ],
 "metadata": {
  "colab": {
   "authorship_tag": "ABX9TyPZFCZhaikX+N2/Bg7W6SY+",
   "collapsed_sections": [],
   "name": "Search_algorithms.ipynb",
   "provenance": [],
   "toc_visible": true
  },
  "interpreter": {
   "hash": "6b5ebbc2c6bde2831bc6c0426f75aca8137ccfc69d329557556ed73faee126ae"
  },
  "kernelspec": {
   "display_name": "Python 3 (ipykernel)",
   "language": "python",
   "name": "python3"
  },
  "language_info": {
   "codemirror_mode": {
    "name": "ipython",
    "version": 3
   },
   "file_extension": ".py",
   "mimetype": "text/x-python",
   "name": "python",
   "nbconvert_exporter": "python",
   "pygments_lexer": "ipython3",
   "version": "3.12.2"
  }
 },
 "nbformat": 4,
 "nbformat_minor": 4
}
